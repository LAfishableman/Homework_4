{
 "cells": [
  {
   "cell_type": "code",
   "execution_count": 11,
   "id": "2d113755-d97e-45e6-8046-cac19860d5a8",
   "metadata": {},
   "outputs": [],
   "source": [
    "import pandas as pd\n",
    "import numpy as np\n",
    "from sklearn.datasets import fetch_openml\n",
    "from sklearn.preprocessing import StandardScaler\n",
    "from sklearn.cluster import KMeans\n",
    "from sklearn.metrics import silhouette_score"
   ]
  },
  {
   "cell_type": "markdown",
   "id": "a61cc9a2-31fe-4eab-8260-a941203bf540",
   "metadata": {},
   "source": [
    "Load the Boston Housing dataset"
   ]
  },
  {
   "cell_type": "code",
   "execution_count": 12,
   "id": "131958c1-3cb2-4f13-b165-df5e5708111f",
   "metadata": {},
   "outputs": [],
   "source": [
    "boston = fetch_openml(name=\"boston\", version=1, as_frame=True)\n",
    "X = boston.data"
   ]
  },
  {
   "cell_type": "markdown",
   "id": "564e6d19-2ee2-466f-a06b-891483049ded",
   "metadata": {},
   "source": [
    "Scale the data"
   ]
  },
  {
   "cell_type": "code",
   "execution_count": 13,
   "id": "e21a3578-5338-4335-91a5-4b2da1dca810",
   "metadata": {},
   "outputs": [],
   "source": [
    "scaler = StandardScaler()\n",
    "X_scaled = scaler.fit_transform(X)\n",
    "X_scaled_df = pd.DataFrame(X_scaled, columns=X.columns)"
   ]
  },
  {
   "cell_type": "markdown",
   "id": "80ca033b-ee6d-4003-8e17-434c1aee45f1",
   "metadata": {},
   "source": [
    "Perform K-Means clustering for k from 2 to 6"
   ]
  },
  {
   "cell_type": "code",
   "execution_count": 14,
   "id": "9afb0e8f-2ffc-44dd-87ab-8f9bda8de751",
   "metadata": {},
   "outputs": [
    {
     "name": "stdout",
     "output_type": "stream",
     "text": [
      "K=2, Silhouette Score: 0.3601\n",
      "K=3, Silhouette Score: 0.2448\n",
      "K=4, Silhouette Score: 0.2275\n",
      "K=5, Silhouette Score: 0.2389\n",
      "K=6, Silhouette Score: 0.2291\n"
     ]
    },
    {
     "name": "stderr",
     "output_type": "stream",
     "text": [
      "E:\\anaconda\\Lib\\site-packages\\sklearn\\cluster\\_kmeans.py:1419: UserWarning: KMeans is known to have a memory leak on Windows with MKL, when there are less chunks than available threads. You can avoid it by setting the environment variable OMP_NUM_THREADS=2.\n",
      "  warnings.warn(\n",
      "E:\\anaconda\\Lib\\site-packages\\sklearn\\cluster\\_kmeans.py:1419: UserWarning: KMeans is known to have a memory leak on Windows with MKL, when there are less chunks than available threads. You can avoid it by setting the environment variable OMP_NUM_THREADS=2.\n",
      "  warnings.warn(\n",
      "E:\\anaconda\\Lib\\site-packages\\sklearn\\cluster\\_kmeans.py:1419: UserWarning: KMeans is known to have a memory leak on Windows with MKL, when there are less chunks than available threads. You can avoid it by setting the environment variable OMP_NUM_THREADS=2.\n",
      "  warnings.warn(\n",
      "E:\\anaconda\\Lib\\site-packages\\sklearn\\cluster\\_kmeans.py:1419: UserWarning: KMeans is known to have a memory leak on Windows with MKL, when there are less chunks than available threads. You can avoid it by setting the environment variable OMP_NUM_THREADS=2.\n",
      "  warnings.warn(\n",
      "E:\\anaconda\\Lib\\site-packages\\sklearn\\cluster\\_kmeans.py:1419: UserWarning: KMeans is known to have a memory leak on Windows with MKL, when there are less chunks than available threads. You can avoid it by setting the environment variable OMP_NUM_THREADS=2.\n",
      "  warnings.warn(\n"
     ]
    }
   ],
   "source": [
    "silhouette_scores = []\n",
    "k_values = range(2, 7)\n",
    "kmeans_models = {}\n",
    "\n",
    "for k in k_values:\n",
    "    kmeans = KMeans(n_clusters=k, random_state=42)\n",
    "    cluster_labels = kmeans.fit_predict(X_scaled)\n",
    "    silhouette_avg = silhouette_score(X_scaled, cluster_labels)\n",
    "    silhouette_scores.append(silhouette_avg)\n",
    "    kmeans_models[k] = kmeans\n",
    "    print(f\"K={k}, Silhouette Score: {silhouette_avg:.4f}\")"
   ]
  },
  {
   "cell_type": "markdown",
   "id": "a08be3dc-36c7-4a64-aeb7-d964a122aabe",
   "metadata": {},
   "source": [
    "Determine the optimal k value"
   ]
  },
  {
   "cell_type": "code",
   "execution_count": 15,
   "id": "4ddb8ce0-0594-4c4f-8747-060d01771be9",
   "metadata": {},
   "outputs": [
    {
     "name": "stdout",
     "output_type": "stream",
     "text": [
      "\n",
      "Optimal k: 2 (Highest Silhouette Score: 0.3601)\n"
     ]
    }
   ],
   "source": [
    "optimal_k = k_values[np.argmax(silhouette_scores)]\n",
    "print(f\"\\nOptimal k: {optimal_k} (Highest Silhouette Score: {max(silhouette_scores):.4f})\")"
   ]
  },
  {
   "cell_type": "markdown",
   "id": "95f81b8d-8bfc-4177-8fd4-fcd43ceee0c2",
   "metadata": {},
   "source": [
    "Get cluster means and centroids for the optimal k"
   ]
  },
  {
   "cell_type": "code",
   "execution_count": 16,
   "id": "033623bd-9bcf-4a1b-9e5c-58701e896c6b",
   "metadata": {},
   "outputs": [],
   "source": [
    "optimal_kmeans = kmeans_models[optimal_k]\n",
    "cluster_labels = optimal_kmeans.predict(X_scaled)\n",
    "X_scaled_df['Cluster'] = cluster_labels"
   ]
  },
  {
   "cell_type": "markdown",
   "id": "5c4b5a99-3c24-49fd-bf69-ce6bf23f56a9",
   "metadata": {},
   "source": [
    "Calculate feature means for each cluster"
   ]
  },
  {
   "cell_type": "code",
   "execution_count": 17,
   "id": "6235565e-d97b-40aa-a5dd-809ebcbc8dbb",
   "metadata": {},
   "outputs": [
    {
     "name": "stdout",
     "output_type": "stream",
     "text": [
      "\n",
      "Cluster Means (Scaled Features):\n",
      "             CRIM        ZN     INDUS      CHAS       NOX        RM       AGE  \\\n",
      "Cluster                                                                         \n",
      "0       -0.390124  0.262392 -0.620368  0.002912 -0.584675  0.243315 -0.435108   \n",
      "1        0.725146 -0.487722  1.153113 -0.005412  1.086769 -0.452263  0.808760   \n",
      "\n",
      "              DIS       RAD       TAX   PTRATIO         B     LSTAT  \n",
      "Cluster                                                              \n",
      "0        0.457222 -0.583801 -0.631460 -0.285808  0.326451 -0.446421  \n",
      "1       -0.849865  1.085145  1.173731  0.531248 -0.606793  0.829787  \n"
     ]
    }
   ],
   "source": [
    "cluster_means = X_scaled_df.groupby('Cluster').mean()\n",
    "print(\"\\nCluster Means (Scaled Features):\")\n",
    "print(cluster_means)"
   ]
  },
  {
   "cell_type": "markdown",
   "id": "7ff145b9-8e98-404e-a6bc-0137c15082cf",
   "metadata": {},
   "source": [
    "Get centroids (KMeans cluster_centers_)"
   ]
  },
  {
   "cell_type": "code",
   "execution_count": 18,
   "id": "9b00bd0d-6063-4680-b020-7ebdc5306466",
   "metadata": {},
   "outputs": [
    {
     "name": "stdout",
     "output_type": "stream",
     "text": [
      "\n",
      "Centroids (Scaled Features):\n",
      "                CRIM        ZN     INDUS      CHAS       NOX        RM  \\\n",
      "Centroid 0 -0.390124  0.262392 -0.620368  0.002912 -0.584675  0.243315   \n",
      "Centroid 1  0.725146 -0.487722  1.153113 -0.005412  1.086769 -0.452263   \n",
      "\n",
      "                 AGE       DIS       RAD       TAX   PTRATIO         B  \\\n",
      "Centroid 0 -0.435108  0.457222 -0.583801 -0.631460 -0.285808  0.326451   \n",
      "Centroid 1  0.808760 -0.849865  1.085145  1.173731  0.531248 -0.606793   \n",
      "\n",
      "               LSTAT  \n",
      "Centroid 0 -0.446421  \n",
      "Centroid 1  0.829787  \n"
     ]
    }
   ],
   "source": [
    "centroids = pd.DataFrame(optimal_kmeans.cluster_centers_, \n",
    "                        columns=X.columns,\n",
    "                        index=[f'Centroid {i}' for i in range(optimal_k)])\n",
    "print(\"\\nCentroids (Scaled Features):\")\n",
    "print(centroids)"
   ]
  },
  {
   "cell_type": "markdown",
   "id": "dabc8432-eb51-4a5c-8bd9-ec9ebda65e17",
   "metadata": {},
   "source": [
    "Compare cluster means with centroids"
   ]
  },
  {
   "cell_type": "code",
   "execution_count": 19,
   "id": "f7bc11a4-0421-490b-bf41-416e1511888c",
   "metadata": {},
   "outputs": [
    {
     "name": "stdout",
     "output_type": "stream",
     "text": [
      "\n",
      "Difference (Cluster Means - Centroids):\n",
      "                 CRIM            ZN         INDUS          CHAS           NOX  \\\n",
      "Cluster                                                                         \n",
      "0        5.551115e-17 -1.110223e-16 -3.330669e-16  3.339343e-16 -1.110223e-16   \n",
      "1       -2.220446e-16 -4.996004e-16 -1.110223e-15  2.437286e-16 -6.661338e-16   \n",
      "\n",
      "                   RM           AGE           DIS           RAD           TAX  \\\n",
      "Cluster                                                                         \n",
      "0        5.551115e-17 -5.551115e-17 -3.885781e-16  3.330669e-16 -1.110223e-16   \n",
      "1        2.220446e-16 -3.330669e-16  1.110223e-16 -1.110223e-15 -3.996803e-15   \n",
      "\n",
      "              PTRATIO             B         LSTAT  \n",
      "Cluster                                            \n",
      "0        0.000000e+00  2.775558e-16  0.000000e+00  \n",
      "1       -1.443290e-15  1.110223e-16 -3.330669e-16  \n"
     ]
    }
   ],
   "source": [
    "difference = cluster_means - centroids.values[:optimal_k]\n",
    "print(\"\\nDifference (Cluster Means - Centroids):\")\n",
    "print(difference)"
   ]
  }
 ],
 "metadata": {
  "kernelspec": {
   "display_name": "Python 3 (ipykernel)",
   "language": "python",
   "name": "python3"
  },
  "language_info": {
   "codemirror_mode": {
    "name": "ipython",
    "version": 3
   },
   "file_extension": ".py",
   "mimetype": "text/x-python",
   "name": "python",
   "nbconvert_exporter": "python",
   "pygments_lexer": "ipython3",
   "version": "3.11.7"
  }
 },
 "nbformat": 4,
 "nbformat_minor": 5
}
