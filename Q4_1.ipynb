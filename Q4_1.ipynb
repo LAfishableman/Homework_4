{
 "cells": [
  {
   "cell_type": "code",
   "execution_count": 28,
   "id": "705f3f0a-629c-43ff-9c6f-bccdbfa85df8",
   "metadata": {},
   "outputs": [],
   "source": [
    "import pandas as pd\n",
    "import numpy as np\n",
    "from sklearn.cluster import AgglomerativeClustering\n",
    "from sklearn.preprocessing import StandardScaler\n",
    "from ucimlrepo import fetch_ucirepo\n",
    "from scipy.stats import chi2_contingency"
   ]
  },
  {
   "cell_type": "markdown",
   "id": "65d80cf7-43eb-4583-8af0-4497971a41fe",
   "metadata": {},
   "source": [
    "Load the UCI auto-mpg dataset (ID=9)"
   ]
  },
  {
   "cell_type": "code",
   "execution_count": 35,
   "id": "a78ee10b-8418-4bd7-a624-2bf351948878",
   "metadata": {},
   "outputs": [],
   "source": [
    "url = \"https://archive.ics.uci.edu/ml/machine-learning-databases/auto-mpg/auto-mpg.data\"\n",
    "column_names = ['mpg', 'cylinders', 'displacement', 'horsepower', 'weight', \n",
    "                'acceleration', 'model_year', 'origin', 'car_name']\n",
    "df = pd.read_csv(url, names=column_names, delim_whitespace=True)"
   ]
  },
  {
   "cell_type": "markdown",
   "id": "b0ceea95-d47f-4cf3-8cd3-1bf4485ae9c7",
   "metadata": {},
   "source": [
    "Select continuous data and create a copy for modification."
   ]
  },
  {
   "cell_type": "code",
   "execution_count": 36,
   "id": "027f60ad-2c2f-4eee-8315-355b2c1c6913",
   "metadata": {
    "scrolled": true
   },
   "outputs": [],
   "source": [
    "continuous_features = ['mpg', 'displacement', 'horsepower', 'weight', 'acceleration']\n",
    "X = df[continuous_features].copy()"
   ]
  },
  {
   "cell_type": "markdown",
   "id": "7f8647a7-578c-47ac-8923-3f2fb0c76dc0",
   "metadata": {},
   "source": [
    "Handle missing values and outliers in the data"
   ]
  },
  {
   "cell_type": "code",
   "execution_count": 37,
   "id": "f122dc0a-52c9-4d45-8574-33a0134b4e8f",
   "metadata": {},
   "outputs": [],
   "source": [
    "X['horsepower'] = X['horsepower'].replace('?', np.nan).astype(float)\n",
    "X.fillna(X.mean(), inplace=True)\n",
    "\n",
    "df['horsepower'] = df['horsepower'].replace('?', np.nan).astype(float)\n",
    "df['horsepower'].fillna(df['horsepower'].mean(), inplace=True)"
   ]
  },
  {
   "cell_type": "markdown",
   "id": "b64514e0-567c-4e0d-af53-312a7e95311d",
   "metadata": {},
   "source": [
    "Data standardization"
   ]
  },
  {
   "cell_type": "code",
   "execution_count": 38,
   "id": "a63f40bb-a291-4ac3-b393-d468ca1b9871",
   "metadata": {},
   "outputs": [],
   "source": [
    "scaler = StandardScaler()\n",
    "X_scaled = scaler.fit_transform(X)"
   ]
  },
  {
   "cell_type": "markdown",
   "id": "79223f6a-7b56-4d9c-afa2-74169aa182b9",
   "metadata": {},
   "source": [
    "Perform hierarchical clustering"
   ]
  },
  {
   "cell_type": "code",
   "execution_count": 39,
   "id": "405fa8e6-b6ee-4c5a-bc70-2f5717155391",
   "metadata": {},
   "outputs": [],
   "source": [
    "clustering = AgglomerativeClustering(n_clusters=3, linkage='average', metric='euclidean')\n",
    "cluster_labels = clustering.fit_predict(X_scaled)"
   ]
  },
  {
   "cell_type": "markdown",
   "id": "f2a18ad5-08a8-492b-941f-858b1c3f13b0",
   "metadata": {},
   "source": [
    "Add cluster labels to the DataFrame"
   ]
  },
  {
   "cell_type": "code",
   "execution_count": 40,
   "id": "e3e2ac06-1d72-4799-9c89-0aae1af99fd4",
   "metadata": {},
   "outputs": [],
   "source": [
    "X['cluster'] = cluster_labels\n",
    "df['cluster'] = cluster_labels"
   ]
  },
  {
   "cell_type": "markdown",
   "id": "0a11cfa3-8d32-4573-bc2b-616d47b3db32",
   "metadata": {},
   "source": [
    "Calculate mean and variance for each cluster"
   ]
  },
  {
   "cell_type": "code",
   "execution_count": 41,
   "id": "e581423f-b8bb-48dd-94c6-73d117898056",
   "metadata": {},
   "outputs": [
    {
     "name": "stdout",
     "output_type": "stream",
     "text": [
      "\n",
      "Cluster Statistics (Mean and Variance):\n",
      "               mpg            displacement               horsepower  \\\n",
      "              mean        var         mean          var        mean   \n",
      "cluster                                                               \n",
      "0        26.177441  41.303375   144.304714  3511.485383   86.490964   \n",
      "1        14.528866   4.771033   348.020619  2089.499570  161.804124   \n",
      "2        43.700000   0.300000    91.750000    12.250000   49.000000   \n",
      "\n",
      "                          weight                acceleration            \n",
      "                var         mean            var         mean       var  \n",
      "cluster                                                                 \n",
      "0        295.270673  2598.414141  299118.709664    16.425589  4.875221  \n",
      "1        674.075816  4143.969072  193847.051117    12.641237  3.189948  \n",
      "2          4.000000  2133.750000   21672.916667    22.875000  2.309167  \n"
     ]
    }
   ],
   "source": [
    "cluster_stats = X.groupby('cluster')[continuous_features].agg(['mean', 'var'])\n",
    "print(\"\\nCluster Statistics (Mean and Variance):\")\n",
    "print(cluster_stats)"
   ]
  },
  {
   "cell_type": "markdown",
   "id": "83a6819c-197f-4390-909a-c9309fdb6ec8",
   "metadata": {},
   "source": [
    "Calculate mean and variance for each origin class"
   ]
  },
  {
   "cell_type": "code",
   "execution_count": 42,
   "id": "c81f72fc-1172-4c04-b8ce-d3ef52ff4949",
   "metadata": {},
   "outputs": [
    {
     "name": "stdout",
     "output_type": "stream",
     "text": [
      "\n",
      "Origin Class Statistics (Mean and Variance):\n",
      "              mpg            displacement               horsepower  \\\n",
      "             mean        var         mean          var        mean   \n",
      "origin                                                               \n",
      "1       20.083534  40.997026   245.901606  9702.612255  118.814769   \n",
      "2       27.891429  45.211230   109.142857   509.950311   81.241983   \n",
      "3       30.450633  37.088685   102.708861   535.465433   79.835443   \n",
      "\n",
      "                          weight                acceleration            \n",
      "                var         mean            var         mean       var  \n",
      "origin                                                                  \n",
      "1       1569.532304  3361.931727  631695.128385    15.033735  7.568615  \n",
      "2        410.659789  2423.300000  240142.328986    16.787143  9.276209  \n",
      "3        317.523856  2221.227848  102718.485881    16.172152  3.821779  \n"
     ]
    }
   ],
   "source": [
    "origin_stats = df.groupby('origin')[continuous_features].agg(['mean', 'var'])\n",
    "print(\"\\nOrigin Class Statistics (Mean and Variance):\")\n",
    "print(origin_stats)"
   ]
  },
  {
   "cell_type": "markdown",
   "id": "064e31fa-ef3f-49d8-a027-47aeeeb752a5",
   "metadata": {},
   "source": [
    "Analyze relationship between clusters and origin labels"
   ]
  },
  {
   "cell_type": "code",
   "execution_count": 43,
   "id": "34794846-97fa-4b75-b854-0174d65ed54f",
   "metadata": {},
   "outputs": [
    {
     "name": "stdout",
     "output_type": "stream",
     "text": [
      "\n",
      "Contingency Table (Cluster vs Origin):\n",
      "origin     1   2   3\n",
      "cluster             \n",
      "0        152  66  79\n",
      "1         97   0   0\n",
      "2          0   4   0\n"
     ]
    }
   ],
   "source": [
    "crosstab = pd.crosstab(df['cluster'], df['origin'])\n",
    "print(\"\\nContingency Table (Cluster vs Origin):\")\n",
    "print(crosstab)"
   ]
  },
  {
   "cell_type": "markdown",
   "id": "5093413f-77a9-4b90-9d56-f6aee4eafab6",
   "metadata": {},
   "source": [
    "Calculate standardized residuals to assess significance"
   ]
  },
  {
   "cell_type": "code",
   "execution_count": 44,
   "id": "b08903c4-566c-4de0-be5a-1ea4bd78efc5",
   "metadata": {},
   "outputs": [
    {
     "name": "stdout",
     "output_type": "stream",
     "text": [
      "\n",
      "Standardized Residuals:\n",
      "origin          1         2         3\n",
      "cluster                              \n",
      "0       -2.480441  1.904378  2.611050\n",
      "1        4.661556 -4.130412 -4.387912\n",
      "2       -1.581933  3.930188 -0.891050\n",
      "\n",
      "Chi-square p-value: 0.0000\n"
     ]
    }
   ],
   "source": [
    "chi2, p, dof, expected = chi2_contingency(crosstab)\n",
    "standardized_residuals = (crosstab - expected) / np.sqrt(expected)\n",
    "print(\"\\nStandardized Residuals:\")\n",
    "print(standardized_residuals)\n",
    "print(f\"\\nChi-square p-value: {p:.4f}\")"
   ]
  }
 ],
 "metadata": {
  "kernelspec": {
   "display_name": "Python 3 (ipykernel)",
   "language": "python",
   "name": "python3"
  },
  "language_info": {
   "codemirror_mode": {
    "name": "ipython",
    "version": 3
   },
   "file_extension": ".py",
   "mimetype": "text/x-python",
   "name": "python",
   "nbconvert_exporter": "python",
   "pygments_lexer": "ipython3",
   "version": "3.11.7"
  }
 },
 "nbformat": 4,
 "nbformat_minor": 5
}
