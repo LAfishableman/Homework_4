{
 "cells": [
  {
   "cell_type": "code",
   "execution_count": 1,
   "id": "709b66c0-5dd9-4341-953c-3c8976009a74",
   "metadata": {},
   "outputs": [],
   "source": [
    "import pandas as pd\n",
    "import numpy as np\n",
    "from sklearn.datasets import load_wine\n",
    "from sklearn.preprocessing import StandardScaler\n",
    "from sklearn.cluster import KMeans\n",
    "from sklearn.metrics import homogeneity_score, completeness_score"
   ]
  },
  {
   "cell_type": "markdown",
   "id": "f28701ba-8220-4380-bbd0-842a90105635",
   "metadata": {},
   "source": [
    "Load the Wine dataset"
   ]
  },
  {
   "cell_type": "code",
   "execution_count": 2,
   "id": "cf69f563-2a76-4c38-9965-2b07974763ab",
   "metadata": {},
   "outputs": [],
   "source": [
    "wine = load_wine()\n",
    "X = pd.DataFrame(wine.data, columns=wine.feature_names)\n",
    "y_true = wine.target"
   ]
  },
  {
   "cell_type": "markdown",
   "id": "50aaed68-007c-4fb4-bbd6-c2dd4b2ca9b7",
   "metadata": {},
   "source": [
    "Scale the data"
   ]
  },
  {
   "cell_type": "code",
   "execution_count": 3,
   "id": "04b3e540-027e-483b-9ac2-baf48107c98f",
   "metadata": {},
   "outputs": [],
   "source": [
    "scaler = StandardScaler()\n",
    "X_scaled = scaler.fit_transform(X)\n",
    "X_scaled_df = pd.DataFrame(X_scaled, columns=X.columns)"
   ]
  },
  {
   "cell_type": "markdown",
   "id": "c5b5406d-0d35-46d9-986b-0c1249f9394c",
   "metadata": {},
   "source": [
    "Perform K-Means clustering with k=3"
   ]
  },
  {
   "cell_type": "code",
   "execution_count": 4,
   "id": "fa3d7c62-3ad6-4b24-b3fc-8ad988a13714",
   "metadata": {},
   "outputs": [
    {
     "name": "stderr",
     "output_type": "stream",
     "text": [
      "E:\\anaconda\\Lib\\site-packages\\sklearn\\cluster\\_kmeans.py:1419: UserWarning: KMeans is known to have a memory leak on Windows with MKL, when there are less chunks than available threads. You can avoid it by setting the environment variable OMP_NUM_THREADS=1.\n",
      "  warnings.warn(\n"
     ]
    }
   ],
   "source": [
    "kmeans = KMeans(n_clusters=3, random_state=42)\n",
    "cluster_labels = kmeans.fit_predict(X_scaled)"
   ]
  },
  {
   "cell_type": "markdown",
   "id": "0054f225-e650-4f5c-a813-07e6ed9502b1",
   "metadata": {},
   "source": [
    "Calculate homogeneity and completeness"
   ]
  },
  {
   "cell_type": "code",
   "execution_count": 5,
   "id": "8296714a-103e-4130-8c43-3c9ebae574ee",
   "metadata": {},
   "outputs": [
    {
     "name": "stdout",
     "output_type": "stream",
     "text": [
      "Homogeneity Score: 0.8788\n",
      "Completeness Score: 0.8730\n"
     ]
    }
   ],
   "source": [
    "homogeneity = homogeneity_score(y_true, cluster_labels)\n",
    "completeness = completeness_score(y_true, cluster_labels)\n",
    "\n",
    "print(f\"Homogeneity Score: {homogeneity:.4f}\")\n",
    "print(f\"Completeness Score: {completeness:.4f}\")"
   ]
  }
 ],
 "metadata": {
  "kernelspec": {
   "display_name": "Python 3 (ipykernel)",
   "language": "python",
   "name": "python3"
  },
  "language_info": {
   "codemirror_mode": {
    "name": "ipython",
    "version": 3
   },
   "file_extension": ".py",
   "mimetype": "text/x-python",
   "name": "python",
   "nbconvert_exporter": "python",
   "pygments_lexer": "ipython3",
   "version": "3.11.7"
  }
 },
 "nbformat": 4,
 "nbformat_minor": 5
}
